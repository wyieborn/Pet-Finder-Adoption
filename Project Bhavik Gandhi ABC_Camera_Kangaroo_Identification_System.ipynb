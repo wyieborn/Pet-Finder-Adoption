{
 "cells": [
  {
   "cell_type": "code",
   "execution_count": 1,
   "id": "b6ad297a",
   "metadata": {},
   "outputs": [
    {
     "name": "stdout",
     "output_type": "stream",
     "text": [
      "Requirement already satisfied: powerbiclient in c:\\users\\deepa\\anaconda3\\lib\\site-packages (3.1.1)\n",
      "Requirement already satisfied: ipywidgets>=7.0.0 in c:\\users\\deepa\\anaconda3\\lib\\site-packages (from powerbiclient) (8.0.4)\n",
      "Requirement already satisfied: jupyter-ui-poll>=0.1.2 in c:\\users\\deepa\\anaconda3\\lib\\site-packages (from powerbiclient) (0.2.2)\n",
      "Requirement already satisfied: msal>=1.8.0 in c:\\users\\deepa\\anaconda3\\lib\\site-packages (from powerbiclient) (1.24.1)\n",
      "Requirement already satisfied: requests>=2.25.1 in c:\\users\\deepa\\anaconda3\\lib\\site-packages (from powerbiclient) (2.31.0)\n",
      "Requirement already satisfied: pandas in c:\\users\\deepa\\anaconda3\\lib\\site-packages (from powerbiclient) (2.0.3)\n",
      "Requirement already satisfied: pyspark in c:\\users\\deepa\\anaconda3\\lib\\site-packages (from powerbiclient) (3.5.0)\n",
      "Requirement already satisfied: ipykernel>=4.5.1 in c:\\users\\deepa\\anaconda3\\lib\\site-packages (from ipywidgets>=7.0.0->powerbiclient) (6.25.0)\n",
      "Requirement already satisfied: ipython>=6.1.0 in c:\\users\\deepa\\anaconda3\\lib\\site-packages (from ipywidgets>=7.0.0->powerbiclient) (8.15.0)\n",
      "Requirement already satisfied: traitlets>=4.3.1 in c:\\users\\deepa\\anaconda3\\lib\\site-packages (from ipywidgets>=7.0.0->powerbiclient) (5.7.1)\n",
      "Requirement already satisfied: widgetsnbextension~=4.0 in c:\\users\\deepa\\anaconda3\\lib\\site-packages (from ipywidgets>=7.0.0->powerbiclient) (4.0.5)\n",
      "Requirement already satisfied: jupyterlab-widgets~=3.0 in c:\\users\\deepa\\anaconda3\\lib\\site-packages (from ipywidgets>=7.0.0->powerbiclient) (3.0.5)\n",
      "Requirement already satisfied: PyJWT<3,>=1.0.0 in c:\\users\\deepa\\anaconda3\\lib\\site-packages (from PyJWT[crypto]<3,>=1.0.0->msal>=1.8.0->powerbiclient) (2.4.0)\n",
      "Requirement already satisfied: cryptography<44,>=0.6 in c:\\users\\deepa\\anaconda3\\lib\\site-packages (from msal>=1.8.0->powerbiclient) (41.0.3)\n",
      "Requirement already satisfied: charset-normalizer<4,>=2 in c:\\users\\deepa\\anaconda3\\lib\\site-packages (from requests>=2.25.1->powerbiclient) (2.0.4)\n",
      "Requirement already satisfied: idna<4,>=2.5 in c:\\users\\deepa\\anaconda3\\lib\\site-packages (from requests>=2.25.1->powerbiclient) (3.4)\n",
      "Requirement already satisfied: urllib3<3,>=1.21.1 in c:\\users\\deepa\\anaconda3\\lib\\site-packages (from requests>=2.25.1->powerbiclient) (1.26.16)\n",
      "Requirement already satisfied: certifi>=2017.4.17 in c:\\users\\deepa\\anaconda3\\lib\\site-packages (from requests>=2.25.1->powerbiclient) (2023.7.22)\n",
      "Requirement already satisfied: python-dateutil>=2.8.2 in c:\\users\\deepa\\anaconda3\\lib\\site-packages (from pandas->powerbiclient) (2.8.2)\n",
      "Requirement already satisfied: pytz>=2020.1 in c:\\users\\deepa\\anaconda3\\lib\\site-packages (from pandas->powerbiclient) (2023.3.post1)\n",
      "Requirement already satisfied: tzdata>=2022.1 in c:\\users\\deepa\\anaconda3\\lib\\site-packages (from pandas->powerbiclient) (2023.3)\n",
      "Requirement already satisfied: numpy>=1.21.0 in c:\\users\\deepa\\anaconda3\\lib\\site-packages (from pandas->powerbiclient) (1.24.3)\n",
      "Requirement already satisfied: py4j==0.10.9.7 in c:\\users\\deepa\\anaconda3\\lib\\site-packages (from pyspark->powerbiclient) (0.10.9.7)\n",
      "Requirement already satisfied: cffi>=1.12 in c:\\users\\deepa\\anaconda3\\lib\\site-packages (from cryptography<44,>=0.6->msal>=1.8.0->powerbiclient) (1.15.1)\n",
      "Requirement already satisfied: comm>=0.1.1 in c:\\users\\deepa\\anaconda3\\lib\\site-packages (from ipykernel>=4.5.1->ipywidgets>=7.0.0->powerbiclient) (0.1.2)\n",
      "Requirement already satisfied: debugpy>=1.6.5 in c:\\users\\deepa\\anaconda3\\lib\\site-packages (from ipykernel>=4.5.1->ipywidgets>=7.0.0->powerbiclient) (1.6.7)\n",
      "Requirement already satisfied: jupyter-client>=6.1.12 in c:\\users\\deepa\\anaconda3\\lib\\site-packages (from ipykernel>=4.5.1->ipywidgets>=7.0.0->powerbiclient) (7.4.9)\n",
      "Requirement already satisfied: jupyter-core!=5.0.*,>=4.12 in c:\\users\\deepa\\anaconda3\\lib\\site-packages (from ipykernel>=4.5.1->ipywidgets>=7.0.0->powerbiclient) (5.3.0)\n",
      "Requirement already satisfied: matplotlib-inline>=0.1 in c:\\users\\deepa\\anaconda3\\lib\\site-packages (from ipykernel>=4.5.1->ipywidgets>=7.0.0->powerbiclient) (0.1.6)\n",
      "Requirement already satisfied: nest-asyncio in c:\\users\\deepa\\anaconda3\\lib\\site-packages (from ipykernel>=4.5.1->ipywidgets>=7.0.0->powerbiclient) (1.5.6)\n",
      "Requirement already satisfied: packaging in c:\\users\\deepa\\anaconda3\\lib\\site-packages (from ipykernel>=4.5.1->ipywidgets>=7.0.0->powerbiclient) (23.1)\n",
      "Requirement already satisfied: psutil in c:\\users\\deepa\\anaconda3\\lib\\site-packages (from ipykernel>=4.5.1->ipywidgets>=7.0.0->powerbiclient) (5.9.0)\n",
      "Requirement already satisfied: pyzmq>=20 in c:\\users\\deepa\\anaconda3\\lib\\site-packages (from ipykernel>=4.5.1->ipywidgets>=7.0.0->powerbiclient) (23.2.0)\n",
      "Requirement already satisfied: tornado>=6.1 in c:\\users\\deepa\\anaconda3\\lib\\site-packages (from ipykernel>=4.5.1->ipywidgets>=7.0.0->powerbiclient) (6.3.2)\n",
      "Requirement already satisfied: backcall in c:\\users\\deepa\\anaconda3\\lib\\site-packages (from ipython>=6.1.0->ipywidgets>=7.0.0->powerbiclient) (0.2.0)\n",
      "Requirement already satisfied: decorator in c:\\users\\deepa\\anaconda3\\lib\\site-packages (from ipython>=6.1.0->ipywidgets>=7.0.0->powerbiclient) (5.1.1)\n",
      "Requirement already satisfied: jedi>=0.16 in c:\\users\\deepa\\anaconda3\\lib\\site-packages (from ipython>=6.1.0->ipywidgets>=7.0.0->powerbiclient) (0.18.1)\n",
      "Requirement already satisfied: pickleshare in c:\\users\\deepa\\anaconda3\\lib\\site-packages (from ipython>=6.1.0->ipywidgets>=7.0.0->powerbiclient) (0.7.5)\n",
      "Requirement already satisfied: prompt-toolkit!=3.0.37,<3.1.0,>=3.0.30 in c:\\users\\deepa\\anaconda3\\lib\\site-packages (from ipython>=6.1.0->ipywidgets>=7.0.0->powerbiclient) (3.0.36)\n",
      "Requirement already satisfied: pygments>=2.4.0 in c:\\users\\deepa\\anaconda3\\lib\\site-packages (from ipython>=6.1.0->ipywidgets>=7.0.0->powerbiclient) (2.15.1)\n",
      "Requirement already satisfied: stack-data in c:\\users\\deepa\\anaconda3\\lib\\site-packages (from ipython>=6.1.0->ipywidgets>=7.0.0->powerbiclient) (0.2.0)\n",
      "Requirement already satisfied: colorama in c:\\users\\deepa\\anaconda3\\lib\\site-packages (from ipython>=6.1.0->ipywidgets>=7.0.0->powerbiclient) (0.4.6)\n",
      "Requirement already satisfied: six>=1.5 in c:\\users\\deepa\\anaconda3\\lib\\site-packages (from python-dateutil>=2.8.2->pandas->powerbiclient) (1.16.0)\n",
      "Requirement already satisfied: pycparser in c:\\users\\deepa\\anaconda3\\lib\\site-packages (from cffi>=1.12->cryptography<44,>=0.6->msal>=1.8.0->powerbiclient) (2.21)\n",
      "Requirement already satisfied: parso<0.9.0,>=0.8.0 in c:\\users\\deepa\\anaconda3\\lib\\site-packages (from jedi>=0.16->ipython>=6.1.0->ipywidgets>=7.0.0->powerbiclient) (0.8.3)\n",
      "Requirement already satisfied: entrypoints in c:\\users\\deepa\\anaconda3\\lib\\site-packages (from jupyter-client>=6.1.12->ipykernel>=4.5.1->ipywidgets>=7.0.0->powerbiclient) (0.4)\n",
      "Requirement already satisfied: platformdirs>=2.5 in c:\\users\\deepa\\anaconda3\\lib\\site-packages (from jupyter-core!=5.0.*,>=4.12->ipykernel>=4.5.1->ipywidgets>=7.0.0->powerbiclient) (3.10.0)\n",
      "Requirement already satisfied: pywin32>=300 in c:\\users\\deepa\\anaconda3\\lib\\site-packages (from jupyter-core!=5.0.*,>=4.12->ipykernel>=4.5.1->ipywidgets>=7.0.0->powerbiclient) (305.1)\n",
      "Requirement already satisfied: wcwidth in c:\\users\\deepa\\anaconda3\\lib\\site-packages (from prompt-toolkit!=3.0.37,<3.1.0,>=3.0.30->ipython>=6.1.0->ipywidgets>=7.0.0->powerbiclient) (0.2.5)\n",
      "Requirement already satisfied: executing in c:\\users\\deepa\\anaconda3\\lib\\site-packages (from stack-data->ipython>=6.1.0->ipywidgets>=7.0.0->powerbiclient) (0.8.3)\n",
      "Requirement already satisfied: asttokens in c:\\users\\deepa\\anaconda3\\lib\\site-packages (from stack-data->ipython>=6.1.0->ipywidgets>=7.0.0->powerbiclient) (2.0.5)\n",
      "Requirement already satisfied: pure-eval in c:\\users\\deepa\\anaconda3\\lib\\site-packages (from stack-data->ipython>=6.1.0->ipywidgets>=7.0.0->powerbiclient) (0.2.2)\n"
     ]
    }
   ],
   "source": [
    "!pip install powerbiclient"
   ]
  },
  {
   "cell_type": "code",
   "execution_count": 5,
   "id": "d384cb33",
   "metadata": {},
   "outputs": [
    {
     "name": "stdout",
     "output_type": "stream",
     "text": [
      "Requirement already satisfied: powerbiclient in c:\\users\\deepa\\anaconda3\\lib\\site-packages (3.1.1)\n",
      "Requirement already satisfied: ipywidgets>=7.0.0 in c:\\users\\deepa\\anaconda3\\lib\\site-packages (from powerbiclient) (8.0.4)\n",
      "Requirement already satisfied: jupyter-ui-poll>=0.1.2 in c:\\users\\deepa\\anaconda3\\lib\\site-packages (from powerbiclient) (0.2.2)\n",
      "Requirement already satisfied: msal>=1.8.0 in c:\\users\\deepa\\anaconda3\\lib\\site-packages (from powerbiclient) (1.24.1)\n",
      "Requirement already satisfied: requests>=2.25.1 in c:\\users\\deepa\\anaconda3\\lib\\site-packages (from powerbiclient) (2.31.0)\n",
      "Requirement already satisfied: pandas in c:\\users\\deepa\\anaconda3\\lib\\site-packages (from powerbiclient) (2.0.3)\n",
      "Requirement already satisfied: pyspark in c:\\users\\deepa\\anaconda3\\lib\\site-packages (from powerbiclient) (3.5.0)\n",
      "Requirement already satisfied: ipykernel>=4.5.1 in c:\\users\\deepa\\anaconda3\\lib\\site-packages (from ipywidgets>=7.0.0->powerbiclient) (6.25.0)\n",
      "Requirement already satisfied: ipython>=6.1.0 in c:\\users\\deepa\\anaconda3\\lib\\site-packages (from ipywidgets>=7.0.0->powerbiclient) (8.15.0)\n",
      "Requirement already satisfied: traitlets>=4.3.1 in c:\\users\\deepa\\anaconda3\\lib\\site-packages (from ipywidgets>=7.0.0->powerbiclient) (5.7.1)\n",
      "Requirement already satisfied: widgetsnbextension~=4.0 in c:\\users\\deepa\\anaconda3\\lib\\site-packages (from ipywidgets>=7.0.0->powerbiclient) (4.0.5)\n",
      "Requirement already satisfied: jupyterlab-widgets~=3.0 in c:\\users\\deepa\\anaconda3\\lib\\site-packages (from ipywidgets>=7.0.0->powerbiclient) (3.0.5)\n",
      "Requirement already satisfied: PyJWT<3,>=1.0.0 in c:\\users\\deepa\\anaconda3\\lib\\site-packages (from PyJWT[crypto]<3,>=1.0.0->msal>=1.8.0->powerbiclient) (2.4.0)\n",
      "Requirement already satisfied: cryptography<44,>=0.6 in c:\\users\\deepa\\anaconda3\\lib\\site-packages (from msal>=1.8.0->powerbiclient) (41.0.3)\n",
      "Requirement already satisfied: charset-normalizer<4,>=2 in c:\\users\\deepa\\anaconda3\\lib\\site-packages (from requests>=2.25.1->powerbiclient) (2.0.4)\n",
      "Requirement already satisfied: idna<4,>=2.5 in c:\\users\\deepa\\anaconda3\\lib\\site-packages (from requests>=2.25.1->powerbiclient) (3.4)\n",
      "Requirement already satisfied: urllib3<3,>=1.21.1 in c:\\users\\deepa\\anaconda3\\lib\\site-packages (from requests>=2.25.1->powerbiclient) (1.26.16)\n",
      "Requirement already satisfied: certifi>=2017.4.17 in c:\\users\\deepa\\anaconda3\\lib\\site-packages (from requests>=2.25.1->powerbiclient) (2023.7.22)\n",
      "Requirement already satisfied: python-dateutil>=2.8.2 in c:\\users\\deepa\\anaconda3\\lib\\site-packages (from pandas->powerbiclient) (2.8.2)\n",
      "Requirement already satisfied: pytz>=2020.1 in c:\\users\\deepa\\anaconda3\\lib\\site-packages (from pandas->powerbiclient) (2023.3.post1)\n",
      "Requirement already satisfied: tzdata>=2022.1 in c:\\users\\deepa\\anaconda3\\lib\\site-packages (from pandas->powerbiclient) (2023.3)\n",
      "Requirement already satisfied: numpy>=1.21.0 in c:\\users\\deepa\\anaconda3\\lib\\site-packages (from pandas->powerbiclient) (1.24.3)\n",
      "Requirement already satisfied: py4j==0.10.9.7 in c:\\users\\deepa\\anaconda3\\lib\\site-packages (from pyspark->powerbiclient) (0.10.9.7)\n",
      "Requirement already satisfied: cffi>=1.12 in c:\\users\\deepa\\anaconda3\\lib\\site-packages (from cryptography<44,>=0.6->msal>=1.8.0->powerbiclient) (1.15.1)\n",
      "Requirement already satisfied: comm>=0.1.1 in c:\\users\\deepa\\anaconda3\\lib\\site-packages (from ipykernel>=4.5.1->ipywidgets>=7.0.0->powerbiclient) (0.1.2)\n",
      "Requirement already satisfied: debugpy>=1.6.5 in c:\\users\\deepa\\anaconda3\\lib\\site-packages (from ipykernel>=4.5.1->ipywidgets>=7.0.0->powerbiclient) (1.6.7)\n",
      "Requirement already satisfied: jupyter-client>=6.1.12 in c:\\users\\deepa\\anaconda3\\lib\\site-packages (from ipykernel>=4.5.1->ipywidgets>=7.0.0->powerbiclient) (7.4.9)\n",
      "Requirement already satisfied: jupyter-core!=5.0.*,>=4.12 in c:\\users\\deepa\\anaconda3\\lib\\site-packages (from ipykernel>=4.5.1->ipywidgets>=7.0.0->powerbiclient) (5.3.0)\n",
      "Requirement already satisfied: matplotlib-inline>=0.1 in c:\\users\\deepa\\anaconda3\\lib\\site-packages (from ipykernel>=4.5.1->ipywidgets>=7.0.0->powerbiclient) (0.1.6)\n",
      "Requirement already satisfied: nest-asyncio in c:\\users\\deepa\\anaconda3\\lib\\site-packages (from ipykernel>=4.5.1->ipywidgets>=7.0.0->powerbiclient) (1.5.6)\n",
      "Requirement already satisfied: packaging in c:\\users\\deepa\\anaconda3\\lib\\site-packages (from ipykernel>=4.5.1->ipywidgets>=7.0.0->powerbiclient) (23.1)\n",
      "Requirement already satisfied: psutil in c:\\users\\deepa\\anaconda3\\lib\\site-packages (from ipykernel>=4.5.1->ipywidgets>=7.0.0->powerbiclient) (5.9.0)\n",
      "Requirement already satisfied: pyzmq>=20 in c:\\users\\deepa\\anaconda3\\lib\\site-packages (from ipykernel>=4.5.1->ipywidgets>=7.0.0->powerbiclient) (23.2.0)\n",
      "Requirement already satisfied: tornado>=6.1 in c:\\users\\deepa\\anaconda3\\lib\\site-packages (from ipykernel>=4.5.1->ipywidgets>=7.0.0->powerbiclient) (6.3.2)\n",
      "Requirement already satisfied: backcall in c:\\users\\deepa\\anaconda3\\lib\\site-packages (from ipython>=6.1.0->ipywidgets>=7.0.0->powerbiclient) (0.2.0)\n",
      "Requirement already satisfied: decorator in c:\\users\\deepa\\anaconda3\\lib\\site-packages (from ipython>=6.1.0->ipywidgets>=7.0.0->powerbiclient) (5.1.1)\n",
      "Requirement already satisfied: jedi>=0.16 in c:\\users\\deepa\\anaconda3\\lib\\site-packages (from ipython>=6.1.0->ipywidgets>=7.0.0->powerbiclient) (0.18.1)\n",
      "Requirement already satisfied: pickleshare in c:\\users\\deepa\\anaconda3\\lib\\site-packages (from ipython>=6.1.0->ipywidgets>=7.0.0->powerbiclient) (0.7.5)\n",
      "Requirement already satisfied: prompt-toolkit!=3.0.37,<3.1.0,>=3.0.30 in c:\\users\\deepa\\anaconda3\\lib\\site-packages (from ipython>=6.1.0->ipywidgets>=7.0.0->powerbiclient) (3.0.36)\n",
      "Requirement already satisfied: pygments>=2.4.0 in c:\\users\\deepa\\anaconda3\\lib\\site-packages (from ipython>=6.1.0->ipywidgets>=7.0.0->powerbiclient) (2.15.1)\n",
      "Requirement already satisfied: stack-data in c:\\users\\deepa\\anaconda3\\lib\\site-packages (from ipython>=6.1.0->ipywidgets>=7.0.0->powerbiclient) (0.2.0)\n",
      "Requirement already satisfied: colorama in c:\\users\\deepa\\anaconda3\\lib\\site-packages (from ipython>=6.1.0->ipywidgets>=7.0.0->powerbiclient) (0.4.6)\n",
      "Requirement already satisfied: six>=1.5 in c:\\users\\deepa\\anaconda3\\lib\\site-packages (from python-dateutil>=2.8.2->pandas->powerbiclient) (1.16.0)\n",
      "Requirement already satisfied: pycparser in c:\\users\\deepa\\anaconda3\\lib\\site-packages (from cffi>=1.12->cryptography<44,>=0.6->msal>=1.8.0->powerbiclient) (2.21)\n",
      "Requirement already satisfied: parso<0.9.0,>=0.8.0 in c:\\users\\deepa\\anaconda3\\lib\\site-packages (from jedi>=0.16->ipython>=6.1.0->ipywidgets>=7.0.0->powerbiclient) (0.8.3)\n",
      "Requirement already satisfied: entrypoints in c:\\users\\deepa\\anaconda3\\lib\\site-packages (from jupyter-client>=6.1.12->ipykernel>=4.5.1->ipywidgets>=7.0.0->powerbiclient) (0.4)\n",
      "Requirement already satisfied: platformdirs>=2.5 in c:\\users\\deepa\\anaconda3\\lib\\site-packages (from jupyter-core!=5.0.*,>=4.12->ipykernel>=4.5.1->ipywidgets>=7.0.0->powerbiclient) (3.10.0)\n",
      "Requirement already satisfied: pywin32>=300 in c:\\users\\deepa\\anaconda3\\lib\\site-packages (from jupyter-core!=5.0.*,>=4.12->ipykernel>=4.5.1->ipywidgets>=7.0.0->powerbiclient) (305.1)\n",
      "Requirement already satisfied: wcwidth in c:\\users\\deepa\\anaconda3\\lib\\site-packages (from prompt-toolkit!=3.0.37,<3.1.0,>=3.0.30->ipython>=6.1.0->ipywidgets>=7.0.0->powerbiclient) (0.2.5)\n",
      "Requirement already satisfied: executing in c:\\users\\deepa\\anaconda3\\lib\\site-packages (from stack-data->ipython>=6.1.0->ipywidgets>=7.0.0->powerbiclient) (0.8.3)\n",
      "Requirement already satisfied: asttokens in c:\\users\\deepa\\anaconda3\\lib\\site-packages (from stack-data->ipython>=6.1.0->ipywidgets>=7.0.0->powerbiclient) (2.0.5)\n",
      "Requirement already satisfied: pure-eval in c:\\users\\deepa\\anaconda3\\lib\\site-packages (from stack-data->ipython>=6.1.0->ipywidgets>=7.0.0->powerbiclient) (0.2.2)\n"
     ]
    }
   ],
   "source": [
    "!pip install powerbiclient\n",
    "#jupyter labextension install @jupyter-widgets/jupyterlab-manager"
   ]
  },
  {
   "cell_type": "code",
   "execution_count": 4,
   "id": "0a3dd44a",
   "metadata": {},
   "outputs": [],
   "source": [
    "#jupyter nbextension enable --py [--sys-prefix|--user|--system] powerbiclient"
   ]
  },
  {
   "cell_type": "code",
   "execution_count": 6,
   "id": "ef4115a9",
   "metadata": {},
   "outputs": [],
   "source": [
    "from powerbiclient import Report, models"
   ]
  },
  {
   "cell_type": "code",
   "execution_count": 7,
   "id": "10cf7332",
   "metadata": {},
   "outputs": [
    {
     "name": "stdout",
     "output_type": "stream",
     "text": [
      "Performing device flow authentication. Please follow the instructions below.\n",
      "To sign in, use a web browser to open the page https://microsoft.com/devicelogin and enter the code FBFJRBYUN to authenticate.\n",
      "\n",
      "Device flow authentication successfully completed.\n",
      "You are now logged in .\n",
      "\n",
      "The result should be passed only to trusted code in your notebook.\n"
     ]
    }
   ],
   "source": [
    "# Import the DeviceCodeLoginAuthentication class to authenticate against Power BI\n",
    "from powerbiclient.authentication import DeviceCodeLoginAuthentication\n",
    "\n",
    "# Initiate device authentication\n",
    "device_auth = DeviceCodeLoginAuthentication()"
   ]
  },
  {
   "cell_type": "code",
   "execution_count": null,
   "id": "54915693",
   "metadata": {},
   "outputs": [],
   "source": [
    "#group_id=\"Workspace ID\"\n",
    "#report_id=\"Report ID\""
   ]
  },
  {
   "cell_type": "code",
   "execution_count": 9,
   "id": "a832b0b9",
   "metadata": {},
   "outputs": [],
   "source": [
    "#report = Report(group_id=group_id, report_id=report_id, auth=device_auth)\n",
    "\n",
    "#report"
   ]
  },
  {
   "cell_type": "code",
   "execution_count": 11,
   "id": "37d6b59f",
   "metadata": {},
   "outputs": [
    {
     "name": "stdout",
     "output_type": "stream",
     "text": [
      "Collecting ultralytics\n",
      "  Downloading ultralytics-8.0.208-py3-none-any.whl.metadata (31 kB)\n",
      "Requirement already satisfied: matplotlib>=3.3.0 in c:\\users\\deepa\\anaconda3\\lib\\site-packages (from ultralytics) (3.7.2)\n",
      "Requirement already satisfied: numpy>=1.22.2 in c:\\users\\deepa\\anaconda3\\lib\\site-packages (from ultralytics) (1.24.3)\n",
      "Collecting opencv-python>=4.6.0 (from ultralytics)\n",
      "  Downloading opencv_python-4.8.1.78-cp37-abi3-win_amd64.whl.metadata (20 kB)\n",
      "Requirement already satisfied: pillow>=7.1.2 in c:\\users\\deepa\\anaconda3\\lib\\site-packages (from ultralytics) (9.4.0)\n",
      "Requirement already satisfied: pyyaml>=5.3.1 in c:\\users\\deepa\\anaconda3\\lib\\site-packages (from ultralytics) (6.0.1)\n",
      "Requirement already satisfied: requests>=2.23.0 in c:\\users\\deepa\\anaconda3\\lib\\site-packages (from ultralytics) (2.31.0)\n",
      "Requirement already satisfied: scipy>=1.4.1 in c:\\users\\deepa\\anaconda3\\lib\\site-packages (from ultralytics) (1.11.1)\n",
      "Requirement already satisfied: torch>=1.8.0 in c:\\users\\deepa\\anaconda3\\lib\\site-packages (from ultralytics) (2.1.0)\n",
      "Requirement already satisfied: torchvision>=0.9.0 in c:\\users\\deepa\\anaconda3\\lib\\site-packages (from ultralytics) (0.16.0)\n",
      "Requirement already satisfied: tqdm>=4.64.0 in c:\\users\\deepa\\anaconda3\\lib\\site-packages (from ultralytics) (4.65.0)\n",
      "Requirement already satisfied: pandas>=1.1.4 in c:\\users\\deepa\\anaconda3\\lib\\site-packages (from ultralytics) (2.0.3)\n",
      "Requirement already satisfied: seaborn>=0.11.0 in c:\\users\\deepa\\anaconda3\\lib\\site-packages (from ultralytics) (0.12.2)\n",
      "Requirement already satisfied: psutil in c:\\users\\deepa\\anaconda3\\lib\\site-packages (from ultralytics) (5.9.0)\n",
      "Requirement already satisfied: py-cpuinfo in c:\\users\\deepa\\anaconda3\\lib\\site-packages (from ultralytics) (8.0.0)\n",
      "Collecting thop>=0.1.1 (from ultralytics)\n",
      "  Downloading thop-0.1.1.post2209072238-py3-none-any.whl (15 kB)\n",
      "Requirement already satisfied: contourpy>=1.0.1 in c:\\users\\deepa\\anaconda3\\lib\\site-packages (from matplotlib>=3.3.0->ultralytics) (1.0.5)\n",
      "Requirement already satisfied: cycler>=0.10 in c:\\users\\deepa\\anaconda3\\lib\\site-packages (from matplotlib>=3.3.0->ultralytics) (0.11.0)\n",
      "Requirement already satisfied: fonttools>=4.22.0 in c:\\users\\deepa\\anaconda3\\lib\\site-packages (from matplotlib>=3.3.0->ultralytics) (4.25.0)\n",
      "Requirement already satisfied: kiwisolver>=1.0.1 in c:\\users\\deepa\\anaconda3\\lib\\site-packages (from matplotlib>=3.3.0->ultralytics) (1.4.4)\n",
      "Requirement already satisfied: packaging>=20.0 in c:\\users\\deepa\\anaconda3\\lib\\site-packages (from matplotlib>=3.3.0->ultralytics) (23.1)\n",
      "Requirement already satisfied: pyparsing<3.1,>=2.3.1 in c:\\users\\deepa\\anaconda3\\lib\\site-packages (from matplotlib>=3.3.0->ultralytics) (3.0.9)\n",
      "Requirement already satisfied: python-dateutil>=2.7 in c:\\users\\deepa\\anaconda3\\lib\\site-packages (from matplotlib>=3.3.0->ultralytics) (2.8.2)\n",
      "Requirement already satisfied: pytz>=2020.1 in c:\\users\\deepa\\anaconda3\\lib\\site-packages (from pandas>=1.1.4->ultralytics) (2023.3.post1)\n",
      "Requirement already satisfied: tzdata>=2022.1 in c:\\users\\deepa\\anaconda3\\lib\\site-packages (from pandas>=1.1.4->ultralytics) (2023.3)\n",
      "Requirement already satisfied: charset-normalizer<4,>=2 in c:\\users\\deepa\\anaconda3\\lib\\site-packages (from requests>=2.23.0->ultralytics) (2.0.4)\n",
      "Requirement already satisfied: idna<4,>=2.5 in c:\\users\\deepa\\anaconda3\\lib\\site-packages (from requests>=2.23.0->ultralytics) (3.4)\n",
      "Requirement already satisfied: urllib3<3,>=1.21.1 in c:\\users\\deepa\\anaconda3\\lib\\site-packages (from requests>=2.23.0->ultralytics) (1.26.16)\n",
      "Requirement already satisfied: certifi>=2017.4.17 in c:\\users\\deepa\\anaconda3\\lib\\site-packages (from requests>=2.23.0->ultralytics) (2023.7.22)\n",
      "Requirement already satisfied: filelock in c:\\users\\deepa\\anaconda3\\lib\\site-packages (from torch>=1.8.0->ultralytics) (3.9.0)\n",
      "Requirement already satisfied: typing-extensions in c:\\users\\deepa\\anaconda3\\lib\\site-packages (from torch>=1.8.0->ultralytics) (4.7.1)\n",
      "Requirement already satisfied: sympy in c:\\users\\deepa\\anaconda3\\lib\\site-packages (from torch>=1.8.0->ultralytics) (1.11.1)\n",
      "Requirement already satisfied: networkx in c:\\users\\deepa\\anaconda3\\lib\\site-packages (from torch>=1.8.0->ultralytics) (3.1)\n",
      "Requirement already satisfied: jinja2 in c:\\users\\deepa\\anaconda3\\lib\\site-packages (from torch>=1.8.0->ultralytics) (3.1.2)\n",
      "Requirement already satisfied: fsspec in c:\\users\\deepa\\anaconda3\\lib\\site-packages (from torch>=1.8.0->ultralytics) (2023.4.0)\n",
      "Requirement already satisfied: colorama in c:\\users\\deepa\\anaconda3\\lib\\site-packages (from tqdm>=4.64.0->ultralytics) (0.4.6)\n",
      "Requirement already satisfied: six>=1.5 in c:\\users\\deepa\\anaconda3\\lib\\site-packages (from python-dateutil>=2.7->matplotlib>=3.3.0->ultralytics) (1.16.0)\n",
      "Requirement already satisfied: MarkupSafe>=2.0 in c:\\users\\deepa\\anaconda3\\lib\\site-packages (from jinja2->torch>=1.8.0->ultralytics) (2.1.1)\n",
      "Requirement already satisfied: mpmath>=0.19 in c:\\users\\deepa\\anaconda3\\lib\\site-packages (from sympy->torch>=1.8.0->ultralytics) (1.3.0)\n",
      "Downloading ultralytics-8.0.208-py3-none-any.whl (645 kB)\n",
      "   ---------------------------------------- 0.0/645.2 kB ? eta -:--:--\n",
      "   --------------- ------------------------ 256.0/645.2 kB 7.9 MB/s eta 0:00:01\n",
      "   --------------------------------- ------ 532.5/645.2 kB 6.7 MB/s eta 0:00:01\n",
      "   ---------------------------------------- 645.2/645.2 kB 5.8 MB/s eta 0:00:00\n",
      "Downloading opencv_python-4.8.1.78-cp37-abi3-win_amd64.whl (38.1 MB)\n",
      "   ---------------------------------------- 0.0/38.1 MB ? eta -:--:--\n",
      "   ---------------------------------------- 0.3/38.1 MB 17.7 MB/s eta 0:00:03\n",
      "    --------------------------------------- 0.7/38.1 MB 11.2 MB/s eta 0:00:04\n",
      "   - -------------------------------------- 1.0/38.1 MB 8.8 MB/s eta 0:00:05\n",
      "   - -------------------------------------- 1.3/38.1 MB 8.0 MB/s eta 0:00:05\n",
      "   - -------------------------------------- 1.7/38.1 MB 8.9 MB/s eta 0:00:05\n",
      "   -- ------------------------------------- 2.0/38.1 MB 8.6 MB/s eta 0:00:05\n",
      "   -- ------------------------------------- 2.3/38.1 MB 8.2 MB/s eta 0:00:05\n",
      "   -- ------------------------------------- 2.7/38.1 MB 8.1 MB/s eta 0:00:05\n",
      "   --- ------------------------------------ 2.9/38.1 MB 7.6 MB/s eta 0:00:05\n",
      "   --- ------------------------------------ 3.1/38.1 MB 7.6 MB/s eta 0:00:05\n",
      "   --- ------------------------------------ 3.4/38.1 MB 7.4 MB/s eta 0:00:05\n",
      "   ---- ----------------------------------- 3.8/38.1 MB 7.4 MB/s eta 0:00:05\n",
      "   ---- ----------------------------------- 4.2/38.1 MB 7.7 MB/s eta 0:00:05\n",
      "   ---- ----------------------------------- 4.5/38.1 MB 7.6 MB/s eta 0:00:05\n",
      "   ----- ---------------------------------- 4.9/38.1 MB 7.6 MB/s eta 0:00:05\n",
      "   ----- ---------------------------------- 5.2/38.1 MB 7.8 MB/s eta 0:00:05\n",
      "   ----- ---------------------------------- 5.5/38.1 MB 7.6 MB/s eta 0:00:05\n",
      "   ------ --------------------------------- 5.8/38.1 MB 7.6 MB/s eta 0:00:05\n",
      "   ------ --------------------------------- 6.1/38.1 MB 7.7 MB/s eta 0:00:05\n",
      "   ------ --------------------------------- 6.5/38.1 MB 7.6 MB/s eta 0:00:05\n",
      "   ------- -------------------------------- 6.8/38.1 MB 7.8 MB/s eta 0:00:05\n",
      "   ------- -------------------------------- 7.1/38.1 MB 7.7 MB/s eta 0:00:05\n",
      "   ------- -------------------------------- 7.5/38.1 MB 7.7 MB/s eta 0:00:04\n",
      "   -------- ------------------------------- 7.8/38.1 MB 7.8 MB/s eta 0:00:04\n",
      "   -------- ------------------------------- 8.2/38.1 MB 7.8 MB/s eta 0:00:04\n",
      "   -------- ------------------------------- 8.5/38.1 MB 7.8 MB/s eta 0:00:04\n",
      "   --------- ------------------------------ 8.8/38.1 MB 7.8 MB/s eta 0:00:04\n",
      "   --------- ------------------------------ 9.2/38.1 MB 7.8 MB/s eta 0:00:04\n",
      "   --------- ------------------------------ 9.5/38.1 MB 7.9 MB/s eta 0:00:04\n",
      "   ---------- ----------------------------- 9.9/38.1 MB 7.9 MB/s eta 0:00:04\n",
      "   ---------- ----------------------------- 10.2/38.1 MB 7.8 MB/s eta 0:00:04\n",
      "   ----------- ---------------------------- 10.5/38.1 MB 8.1 MB/s eta 0:00:04\n",
      "   ----------- ---------------------------- 10.9/38.1 MB 7.8 MB/s eta 0:00:04\n",
      "   ----------- ---------------------------- 11.2/38.1 MB 7.7 MB/s eta 0:00:04\n",
      "   ------------ --------------------------- 11.5/38.1 MB 7.9 MB/s eta 0:00:04\n",
      "   ------------ --------------------------- 11.8/38.1 MB 7.8 MB/s eta 0:00:04\n",
      "   ------------ --------------------------- 12.2/38.1 MB 7.9 MB/s eta 0:00:04\n",
      "   ------------- -------------------------- 12.5/38.1 MB 7.9 MB/s eta 0:00:04\n",
      "   ------------- -------------------------- 12.9/38.1 MB 7.9 MB/s eta 0:00:04\n",
      "   ------------- -------------------------- 13.2/38.1 MB 8.1 MB/s eta 0:00:04\n",
      "   -------------- ------------------------- 13.6/38.1 MB 8.2 MB/s eta 0:00:03\n",
      "   -------------- ------------------------- 13.9/38.1 MB 8.1 MB/s eta 0:00:03\n",
      "   -------------- ------------------------- 14.2/38.1 MB 8.2 MB/s eta 0:00:03\n",
      "   --------------- ------------------------ 14.6/38.1 MB 8.2 MB/s eta 0:00:03\n",
      "   --------------- ------------------------ 14.9/38.1 MB 8.3 MB/s eta 0:00:03\n",
      "   --------------- ------------------------ 15.1/38.1 MB 8.2 MB/s eta 0:00:03\n",
      "   ---------------- ----------------------- 15.6/38.1 MB 8.2 MB/s eta 0:00:03\n",
      "   ---------------- ----------------------- 15.9/38.1 MB 8.2 MB/s eta 0:00:03\n",
      "   ----------------- ---------------------- 16.2/38.1 MB 8.2 MB/s eta 0:00:03\n",
      "   ----------------- ---------------------- 16.6/38.1 MB 8.2 MB/s eta 0:00:03\n",
      "   ----------------- ---------------------- 16.9/38.1 MB 8.3 MB/s eta 0:00:03\n",
      "   ------------------ --------------------- 17.2/38.1 MB 8.2 MB/s eta 0:00:03\n",
      "   ------------------ --------------------- 17.6/38.1 MB 8.3 MB/s eta 0:00:03\n",
      "   ------------------ --------------------- 17.9/38.1 MB 8.2 MB/s eta 0:00:03\n",
      "   ------------------- -------------------- 18.2/38.1 MB 8.2 MB/s eta 0:00:03\n",
      "   ------------------- -------------------- 18.5/38.1 MB 8.1 MB/s eta 0:00:03\n",
      "   ------------------- -------------------- 18.8/38.1 MB 8.1 MB/s eta 0:00:03\n",
      "   -------------------- ------------------- 19.1/38.1 MB 8.1 MB/s eta 0:00:03\n",
      "   -------------------- ------------------- 19.4/38.1 MB 8.0 MB/s eta 0:00:03\n",
      "   -------------------- ------------------- 19.7/38.1 MB 7.9 MB/s eta 0:00:03\n",
      "   --------------------- ------------------ 20.0/38.1 MB 8.0 MB/s eta 0:00:03\n",
      "   --------------------- ------------------ 20.4/38.1 MB 8.0 MB/s eta 0:00:03\n",
      "   --------------------- ------------------ 20.7/38.1 MB 8.0 MB/s eta 0:00:03\n",
      "   ---------------------- ----------------- 21.0/38.1 MB 7.9 MB/s eta 0:00:03\n",
      "   ---------------------- ----------------- 21.3/38.1 MB 7.8 MB/s eta 0:00:03\n",
      "   ---------------------- ----------------- 21.6/38.1 MB 7.9 MB/s eta 0:00:03\n",
      "   ----------------------- ---------------- 21.9/38.1 MB 7.8 MB/s eta 0:00:03\n",
      "   ----------------------- ---------------- 22.3/38.1 MB 7.9 MB/s eta 0:00:03\n",
      "   ----------------------- ---------------- 22.5/38.1 MB 7.8 MB/s eta 0:00:02\n",
      "   ------------------------ --------------- 22.9/38.1 MB 7.8 MB/s eta 0:00:02\n",
      "   ------------------------ --------------- 23.2/38.1 MB 7.7 MB/s eta 0:00:02\n",
      "   ------------------------ --------------- 23.6/38.1 MB 7.8 MB/s eta 0:00:02\n",
      "   ------------------------- -------------- 23.9/38.1 MB 7.8 MB/s eta 0:00:02\n",
      "   ------------------------- -------------- 24.3/38.1 MB 7.8 MB/s eta 0:00:02\n",
      "   -------------------------- ------------- 24.8/38.1 MB 7.8 MB/s eta 0:00:02\n",
      "   -------------------------- ------------- 25.1/38.1 MB 7.8 MB/s eta 0:00:02\n",
      "   -------------------------- ------------- 25.6/38.1 MB 7.8 MB/s eta 0:00:02\n",
      "   --------------------------- ------------ 25.9/38.1 MB 7.8 MB/s eta 0:00:02\n",
      "   --------------------------- ------------ 26.3/38.1 MB 7.8 MB/s eta 0:00:02\n",
      "   --------------------------- ------------ 26.6/38.1 MB 7.8 MB/s eta 0:00:02\n",
      "   ---------------------------- ----------- 27.0/38.1 MB 7.9 MB/s eta 0:00:02\n",
      "   ---------------------------- ----------- 27.3/38.1 MB 7.8 MB/s eta 0:00:02\n",
      "   ---------------------------- ----------- 27.6/38.1 MB 7.8 MB/s eta 0:00:02\n",
      "   ----------------------------- ---------- 28.0/38.1 MB 7.8 MB/s eta 0:00:02\n",
      "   ----------------------------- ---------- 28.3/38.1 MB 7.9 MB/s eta 0:00:02\n",
      "   ------------------------------ --------- 28.7/38.1 MB 7.9 MB/s eta 0:00:02\n",
      "   ------------------------------ --------- 29.0/38.1 MB 8.0 MB/s eta 0:00:02\n",
      "   ------------------------------ --------- 29.3/38.1 MB 8.0 MB/s eta 0:00:02\n",
      "   ------------------------------- -------- 29.6/38.1 MB 8.1 MB/s eta 0:00:02\n",
      "   ------------------------------- -------- 29.9/38.1 MB 8.0 MB/s eta 0:00:02\n",
      "   ------------------------------- -------- 30.2/38.1 MB 8.0 MB/s eta 0:00:01\n",
      "   -------------------------------- ------- 30.5/38.1 MB 8.0 MB/s eta 0:00:01\n",
      "   -------------------------------- ------- 30.8/38.1 MB 8.0 MB/s eta 0:00:01\n",
      "   -------------------------------- ------- 31.2/38.1 MB 8.0 MB/s eta 0:00:01\n",
      "   --------------------------------- ------ 31.5/38.1 MB 8.0 MB/s eta 0:00:01\n",
      "   --------------------------------- ------ 31.8/38.1 MB 8.0 MB/s eta 0:00:01\n",
      "   --------------------------------- ------ 32.1/38.1 MB 8.0 MB/s eta 0:00:01\n",
      "   ---------------------------------- ----- 32.4/38.1 MB 7.9 MB/s eta 0:00:01\n",
      "   ---------------------------------- ----- 32.7/38.1 MB 8.0 MB/s eta 0:00:01\n",
      "   ---------------------------------- ----- 33.1/38.1 MB 8.0 MB/s eta 0:00:01\n",
      "   ----------------------------------- ---- 33.4/38.1 MB 7.9 MB/s eta 0:00:01\n",
      "   ----------------------------------- ---- 33.7/38.1 MB 8.0 MB/s eta 0:00:01\n",
      "   ----------------------------------- ---- 33.9/38.1 MB 7.9 MB/s eta 0:00:01\n",
      "   ------------------------------------ --- 34.3/38.1 MB 8.0 MB/s eta 0:00:01\n",
      "   ------------------------------------ --- 34.6/38.1 MB 7.9 MB/s eta 0:00:01\n",
      "   ------------------------------------ --- 34.9/38.1 MB 7.8 MB/s eta 0:00:01\n",
      "   ------------------------------------- -- 35.3/38.1 MB 7.9 MB/s eta 0:00:01\n",
      "   ------------------------------------- -- 35.6/38.1 MB 7.9 MB/s eta 0:00:01\n",
      "   ------------------------------------- -- 35.9/38.1 MB 7.9 MB/s eta 0:00:01\n",
      "   -------------------------------------- - 36.3/38.1 MB 7.9 MB/s eta 0:00:01\n",
      "   -------------------------------------- - 36.6/38.1 MB 7.9 MB/s eta 0:00:01\n",
      "   -------------------------------------- - 36.9/38.1 MB 7.9 MB/s eta 0:00:01\n",
      "   ---------------------------------------  37.3/38.1 MB 7.9 MB/s eta 0:00:01\n",
      "   ---------------------------------------  37.6/38.1 MB 7.8 MB/s eta 0:00:01\n",
      "   ---------------------------------------  37.9/38.1 MB 7.9 MB/s eta 0:00:01\n",
      "   ---------------------------------------  38.1/38.1 MB 7.8 MB/s eta 0:00:01\n",
      "   ---------------------------------------  38.1/38.1 MB 7.8 MB/s eta 0:00:01\n",
      "   ---------------------------------------  38.1/38.1 MB 7.8 MB/s eta 0:00:01\n",
      "   ---------------------------------------- 38.1/38.1 MB 7.1 MB/s eta 0:00:00\n",
      "Installing collected packages: opencv-python, thop, ultralytics\n",
      "Successfully installed opencv-python-4.8.1.78 thop-0.1.1.post2209072238 ultralytics-8.0.208\n"
     ]
    }
   ],
   "source": [
    "!pip install ultralytics"
   ]
  },
  {
   "cell_type": "code",
   "execution_count": 5,
   "id": "e21dd707",
   "metadata": {},
   "outputs": [
    {
     "name": "stdout",
     "output_type": "stream",
     "text": [
      "Requirement already satisfied: ultralytics in c:\\users\\deepa\\anaconda3\\lib\\site-packages (8.0.208)\n",
      "Requirement already satisfied: matplotlib>=3.3.0 in c:\\users\\deepa\\anaconda3\\lib\\site-packages (from ultralytics) (3.7.2)\n",
      "Requirement already satisfied: numpy>=1.22.2 in c:\\users\\deepa\\anaconda3\\lib\\site-packages (from ultralytics) (1.24.3)\n",
      "Requirement already satisfied: opencv-python>=4.6.0 in c:\\users\\deepa\\anaconda3\\lib\\site-packages (from ultralytics) (4.8.1.78)\n",
      "Requirement already satisfied: pillow>=7.1.2 in c:\\users\\deepa\\anaconda3\\lib\\site-packages (from ultralytics) (9.4.0)\n",
      "Requirement already satisfied: pyyaml>=5.3.1 in c:\\users\\deepa\\anaconda3\\lib\\site-packages (from ultralytics) (6.0.1)\n",
      "Requirement already satisfied: requests>=2.23.0 in c:\\users\\deepa\\anaconda3\\lib\\site-packages (from ultralytics) (2.31.0)\n",
      "Requirement already satisfied: scipy>=1.4.1 in c:\\users\\deepa\\anaconda3\\lib\\site-packages (from ultralytics) (1.11.1)\n",
      "Requirement already satisfied: torch>=1.8.0 in c:\\users\\deepa\\anaconda3\\lib\\site-packages (from ultralytics) (2.1.0)\n",
      "Requirement already satisfied: torchvision>=0.9.0 in c:\\users\\deepa\\anaconda3\\lib\\site-packages (from ultralytics) (0.16.0)\n",
      "Requirement already satisfied: tqdm>=4.64.0 in c:\\users\\deepa\\anaconda3\\lib\\site-packages (from ultralytics) (4.65.0)\n",
      "Requirement already satisfied: pandas>=1.1.4 in c:\\users\\deepa\\anaconda3\\lib\\site-packages (from ultralytics) (2.0.3)\n",
      "Requirement already satisfied: seaborn>=0.11.0 in c:\\users\\deepa\\anaconda3\\lib\\site-packages (from ultralytics) (0.12.2)\n",
      "Requirement already satisfied: psutil in c:\\users\\deepa\\anaconda3\\lib\\site-packages (from ultralytics) (5.9.0)\n",
      "Requirement already satisfied: py-cpuinfo in c:\\users\\deepa\\anaconda3\\lib\\site-packages (from ultralytics) (8.0.0)\n",
      "Requirement already satisfied: thop>=0.1.1 in c:\\users\\deepa\\anaconda3\\lib\\site-packages (from ultralytics) (0.1.1.post2209072238)\n",
      "Requirement already satisfied: contourpy>=1.0.1 in c:\\users\\deepa\\anaconda3\\lib\\site-packages (from matplotlib>=3.3.0->ultralytics) (1.0.5)\n",
      "Requirement already satisfied: cycler>=0.10 in c:\\users\\deepa\\anaconda3\\lib\\site-packages (from matplotlib>=3.3.0->ultralytics) (0.11.0)\n",
      "Requirement already satisfied: fonttools>=4.22.0 in c:\\users\\deepa\\anaconda3\\lib\\site-packages (from matplotlib>=3.3.0->ultralytics) (4.25.0)\n",
      "Requirement already satisfied: kiwisolver>=1.0.1 in c:\\users\\deepa\\anaconda3\\lib\\site-packages (from matplotlib>=3.3.0->ultralytics) (1.4.4)\n",
      "Requirement already satisfied: packaging>=20.0 in c:\\users\\deepa\\anaconda3\\lib\\site-packages (from matplotlib>=3.3.0->ultralytics) (23.1)\n",
      "Requirement already satisfied: pyparsing<3.1,>=2.3.1 in c:\\users\\deepa\\anaconda3\\lib\\site-packages (from matplotlib>=3.3.0->ultralytics) (3.0.9)\n",
      "Requirement already satisfied: python-dateutil>=2.7 in c:\\users\\deepa\\anaconda3\\lib\\site-packages (from matplotlib>=3.3.0->ultralytics) (2.8.2)\n",
      "Requirement already satisfied: pytz>=2020.1 in c:\\users\\deepa\\anaconda3\\lib\\site-packages (from pandas>=1.1.4->ultralytics) (2023.3.post1)\n",
      "Requirement already satisfied: tzdata>=2022.1 in c:\\users\\deepa\\anaconda3\\lib\\site-packages (from pandas>=1.1.4->ultralytics) (2023.3)\n",
      "Requirement already satisfied: charset-normalizer<4,>=2 in c:\\users\\deepa\\anaconda3\\lib\\site-packages (from requests>=2.23.0->ultralytics) (2.0.4)\n",
      "Requirement already satisfied: idna<4,>=2.5 in c:\\users\\deepa\\anaconda3\\lib\\site-packages (from requests>=2.23.0->ultralytics) (3.4)\n",
      "Requirement already satisfied: urllib3<3,>=1.21.1 in c:\\users\\deepa\\anaconda3\\lib\\site-packages (from requests>=2.23.0->ultralytics) (1.26.16)\n",
      "Requirement already satisfied: certifi>=2017.4.17 in c:\\users\\deepa\\anaconda3\\lib\\site-packages (from requests>=2.23.0->ultralytics) (2023.7.22)\n",
      "Requirement already satisfied: filelock in c:\\users\\deepa\\anaconda3\\lib\\site-packages (from torch>=1.8.0->ultralytics) (3.9.0)\n",
      "Requirement already satisfied: typing-extensions in c:\\users\\deepa\\anaconda3\\lib\\site-packages (from torch>=1.8.0->ultralytics) (4.7.1)\n",
      "Requirement already satisfied: sympy in c:\\users\\deepa\\anaconda3\\lib\\site-packages (from torch>=1.8.0->ultralytics) (1.11.1)\n",
      "Requirement already satisfied: networkx in c:\\users\\deepa\\anaconda3\\lib\\site-packages (from torch>=1.8.0->ultralytics) (3.1)\n",
      "Requirement already satisfied: jinja2 in c:\\users\\deepa\\anaconda3\\lib\\site-packages (from torch>=1.8.0->ultralytics) (3.1.2)\n",
      "Requirement already satisfied: fsspec in c:\\users\\deepa\\anaconda3\\lib\\site-packages (from torch>=1.8.0->ultralytics) (2023.4.0)\n",
      "Requirement already satisfied: colorama in c:\\users\\deepa\\anaconda3\\lib\\site-packages (from tqdm>=4.64.0->ultralytics) (0.4.6)\n",
      "Requirement already satisfied: six>=1.5 in c:\\users\\deepa\\anaconda3\\lib\\site-packages (from python-dateutil>=2.7->matplotlib>=3.3.0->ultralytics) (1.16.0)\n",
      "Requirement already satisfied: MarkupSafe>=2.0 in c:\\users\\deepa\\anaconda3\\lib\\site-packages (from jinja2->torch>=1.8.0->ultralytics) (2.1.1)\n",
      "Requirement already satisfied: mpmath>=0.19 in c:\\users\\deepa\\anaconda3\\lib\\site-packages (from sympy->torch>=1.8.0->ultralytics) (1.3.0)\n"
     ]
    }
   ],
   "source": [
    "!pip install ultralytics"
   ]
  },
  {
   "cell_type": "code",
   "execution_count": 8,
   "id": "774c51bf",
   "metadata": {},
   "outputs": [
    {
     "name": "stdout",
     "output_type": "stream",
     "text": [
      "Collecting git+https://github.com/ultralytics/ultralytics.git@main"
     ]
    },
    {
     "name": "stderr",
     "output_type": "stream",
     "text": [
      "  ERROR: Error [WinError 2] The system cannot find the file specified while executing command git version\n",
      "ERROR: Cannot find command 'git' - do you have 'git' installed and in your PATH?\n"
     ]
    },
    {
     "name": "stdout",
     "output_type": "stream",
     "text": [
      "\n",
      "  Cloning https://github.com/ultralytics/ultralytics.git (to revision main) to c:\\users\\deepa\\appdata\\local\\temp\\pip-req-build-r7th_b0p\n"
     ]
    }
   ],
   "source": [
    "# Install the ultralytics package from GitHub\n",
    "!pip install git+https://github.com/ultralytics/ultralytics.git@main"
   ]
  },
  {
   "cell_type": "code",
   "execution_count": 9,
   "id": "1cd4d079",
   "metadata": {},
   "outputs": [
    {
     "name": "stdout",
     "output_type": "stream",
     "text": [
      "Requirement already satisfied: matplotlib>=3.3.0 in c:\\users\\deepa\\anaconda3\\lib\\site-packages (from -r requirements.txt (line 5)) (3.7.2)\n",
      "Requirement already satisfied: numpy>=1.22.2 in c:\\users\\deepa\\anaconda3\\lib\\site-packages (from -r requirements.txt (line 6)) (1.24.3)\n",
      "Requirement already satisfied: opencv-python>=4.6.0 in c:\\users\\deepa\\anaconda3\\lib\\site-packages (from -r requirements.txt (line 7)) (4.8.1.78)\n",
      "Requirement already satisfied: pillow>=7.1.2 in c:\\users\\deepa\\anaconda3\\lib\\site-packages (from -r requirements.txt (line 8)) (9.4.0)\n",
      "Requirement already satisfied: pyyaml>=5.3.1 in c:\\users\\deepa\\anaconda3\\lib\\site-packages (from -r requirements.txt (line 9)) (6.0.1)\n",
      "Requirement already satisfied: requests>=2.23.0 in c:\\users\\deepa\\anaconda3\\lib\\site-packages (from -r requirements.txt (line 10)) (2.31.0)\n",
      "Requirement already satisfied: scipy>=1.4.1 in c:\\users\\deepa\\anaconda3\\lib\\site-packages (from -r requirements.txt (line 11)) (1.11.1)\n",
      "Requirement already satisfied: torch>=1.8.0 in c:\\users\\deepa\\anaconda3\\lib\\site-packages (from -r requirements.txt (line 12)) (2.1.0)\n",
      "Requirement already satisfied: torchvision>=0.9.0 in c:\\users\\deepa\\anaconda3\\lib\\site-packages (from -r requirements.txt (line 13)) (0.16.0)\n",
      "Requirement already satisfied: tqdm>=4.64.0 in c:\\users\\deepa\\anaconda3\\lib\\site-packages (from -r requirements.txt (line 14)) (4.65.0)\n",
      "Requirement already satisfied: pandas>=1.1.4 in c:\\users\\deepa\\anaconda3\\lib\\site-packages (from -r requirements.txt (line 23)) (2.0.3)\n",
      "Requirement already satisfied: seaborn>=0.11.0 in c:\\users\\deepa\\anaconda3\\lib\\site-packages (from -r requirements.txt (line 24)) (0.12.2)\n",
      "Requirement already satisfied: psutil in c:\\users\\deepa\\anaconda3\\lib\\site-packages (from -r requirements.txt (line 39)) (5.9.0)\n",
      "Requirement already satisfied: py-cpuinfo in c:\\users\\deepa\\anaconda3\\lib\\site-packages (from -r requirements.txt (line 40)) (8.0.0)\n",
      "Requirement already satisfied: thop>=0.1.1 in c:\\users\\deepa\\anaconda3\\lib\\site-packages (from -r requirements.txt (line 41)) (0.1.1.post2209072238)\n",
      "Requirement already satisfied: contourpy>=1.0.1 in c:\\users\\deepa\\anaconda3\\lib\\site-packages (from matplotlib>=3.3.0->-r requirements.txt (line 5)) (1.0.5)\n",
      "Requirement already satisfied: cycler>=0.10 in c:\\users\\deepa\\anaconda3\\lib\\site-packages (from matplotlib>=3.3.0->-r requirements.txt (line 5)) (0.11.0)\n",
      "Requirement already satisfied: fonttools>=4.22.0 in c:\\users\\deepa\\anaconda3\\lib\\site-packages (from matplotlib>=3.3.0->-r requirements.txt (line 5)) (4.25.0)\n",
      "Requirement already satisfied: kiwisolver>=1.0.1 in c:\\users\\deepa\\anaconda3\\lib\\site-packages (from matplotlib>=3.3.0->-r requirements.txt (line 5)) (1.4.4)\n",
      "Requirement already satisfied: packaging>=20.0 in c:\\users\\deepa\\anaconda3\\lib\\site-packages (from matplotlib>=3.3.0->-r requirements.txt (line 5)) (23.1)\n",
      "Requirement already satisfied: pyparsing<3.1,>=2.3.1 in c:\\users\\deepa\\anaconda3\\lib\\site-packages (from matplotlib>=3.3.0->-r requirements.txt (line 5)) (3.0.9)\n",
      "Requirement already satisfied: python-dateutil>=2.7 in c:\\users\\deepa\\anaconda3\\lib\\site-packages (from matplotlib>=3.3.0->-r requirements.txt (line 5)) (2.8.2)\n",
      "Requirement already satisfied: charset-normalizer<4,>=2 in c:\\users\\deepa\\anaconda3\\lib\\site-packages (from requests>=2.23.0->-r requirements.txt (line 10)) (2.0.4)\n",
      "Requirement already satisfied: idna<4,>=2.5 in c:\\users\\deepa\\anaconda3\\lib\\site-packages (from requests>=2.23.0->-r requirements.txt (line 10)) (3.4)\n",
      "Requirement already satisfied: urllib3<3,>=1.21.1 in c:\\users\\deepa\\anaconda3\\lib\\site-packages (from requests>=2.23.0->-r requirements.txt (line 10)) (1.26.16)\n",
      "Requirement already satisfied: certifi>=2017.4.17 in c:\\users\\deepa\\anaconda3\\lib\\site-packages (from requests>=2.23.0->-r requirements.txt (line 10)) (2023.7.22)\n",
      "Requirement already satisfied: filelock in c:\\users\\deepa\\anaconda3\\lib\\site-packages (from torch>=1.8.0->-r requirements.txt (line 12)) (3.9.0)\n",
      "Requirement already satisfied: typing-extensions in c:\\users\\deepa\\anaconda3\\lib\\site-packages (from torch>=1.8.0->-r requirements.txt (line 12)) (4.7.1)\n",
      "Requirement already satisfied: sympy in c:\\users\\deepa\\anaconda3\\lib\\site-packages (from torch>=1.8.0->-r requirements.txt (line 12)) (1.11.1)\n",
      "Requirement already satisfied: networkx in c:\\users\\deepa\\anaconda3\\lib\\site-packages (from torch>=1.8.0->-r requirements.txt (line 12)) (3.1)\n",
      "Requirement already satisfied: jinja2 in c:\\users\\deepa\\anaconda3\\lib\\site-packages (from torch>=1.8.0->-r requirements.txt (line 12)) (3.1.2)\n",
      "Requirement already satisfied: fsspec in c:\\users\\deepa\\anaconda3\\lib\\site-packages (from torch>=1.8.0->-r requirements.txt (line 12)) (2023.4.0)\n",
      "Requirement already satisfied: colorama in c:\\users\\deepa\\anaconda3\\lib\\site-packages (from tqdm>=4.64.0->-r requirements.txt (line 14)) (0.4.6)\n",
      "Requirement already satisfied: pytz>=2020.1 in c:\\users\\deepa\\anaconda3\\lib\\site-packages (from pandas>=1.1.4->-r requirements.txt (line 23)) (2023.3.post1)\n",
      "Requirement already satisfied: tzdata>=2022.1 in c:\\users\\deepa\\anaconda3\\lib\\site-packages (from pandas>=1.1.4->-r requirements.txt (line 23)) (2023.3)\n",
      "Requirement already satisfied: six>=1.5 in c:\\users\\deepa\\anaconda3\\lib\\site-packages (from python-dateutil>=2.7->matplotlib>=3.3.0->-r requirements.txt (line 5)) (1.16.0)\n",
      "Requirement already satisfied: MarkupSafe>=2.0 in c:\\users\\deepa\\anaconda3\\lib\\site-packages (from jinja2->torch>=1.8.0->-r requirements.txt (line 12)) (2.1.1)\n",
      "Requirement already satisfied: mpmath>=0.19 in c:\\users\\deepa\\anaconda3\\lib\\site-packages (from sympy->torch>=1.8.0->-r requirements.txt (line 12)) (1.3.0)\n"
     ]
    }
   ],
   "source": [
    "!pip install -r requirements.txt"
   ]
  },
  {
   "cell_type": "code",
   "execution_count": 11,
   "id": "a3ffd720",
   "metadata": {},
   "outputs": [
    {
     "name": "stderr",
     "output_type": "stream",
     "text": [
      "\u001b[34m\u001b[1mactivation:\u001b[0m nn.ReLU()\n",
      "\n",
      "                   from  n    params  module                                       arguments                     \n",
      "  0                  -1  1       464  ultralytics.nn.modules.conv.Conv             [3, 16, 3, 2]                 \n",
      "  1                  -1  1      4672  ultralytics.nn.modules.conv.Conv             [16, 32, 3, 2]                \n",
      "  2                  -1  2     18560  ultralytics.nn.modules.conv.Conv             [32, 32, 3, 1]                \n",
      "  3                  -1  1     18560  ultralytics.nn.modules.conv.Conv             [32, 64, 3, 2]                \n",
      "  4                  -1  4    147968  ultralytics.nn.modules.conv.Conv             [64, 64, 3, 1]                \n",
      "  5                  -1  1     73984  ultralytics.nn.modules.conv.Conv             [64, 128, 3, 2]               \n",
      "  6                  -1  6    886272  ultralytics.nn.modules.conv.Conv             [128, 128, 3, 1]              \n",
      "  7                  -1  1    295424  ultralytics.nn.modules.conv.Conv             [128, 256, 3, 2]              \n",
      "  8                  -1  2   1180672  ultralytics.nn.modules.conv.Conv             [256, 256, 3, 1]              \n",
      "  9                  -1  1    164608  ultralytics.nn.modules.block.SPPF            [256, 256, 5]                 \n",
      " 10                  -1  1     16512  ultralytics.nn.modules.conv.Conv             [256, 64, 1, 1]               \n",
      " 11                  -1  1     16448  torch.nn.modules.conv.ConvTranspose2d        [64, 64, 2, 2, 0]             \n",
      " 12             [-1, 6]  1         0  ultralytics.nn.modules.conv.Concat           [1]                           \n",
      " 13                  -1  1    110720  ultralytics.nn.modules.conv.Conv             [192, 64, 3, 1]               \n",
      " 14                  -1  3    110976  ultralytics.nn.modules.conv.Conv             [64, 64, 3, 1]                \n",
      " 15                  -1  1      2112  ultralytics.nn.modules.conv.Conv             [64, 32, 1, 1]                \n",
      " 16                  -1  1      4128  torch.nn.modules.conv.ConvTranspose2d        [32, 32, 2, 2, 0]             \n",
      " 17             [-1, 4]  1         0  ultralytics.nn.modules.conv.Concat           [1]                           \n",
      " 18                  -1  1     27712  ultralytics.nn.modules.conv.Conv             [96, 32, 3, 1]                \n",
      " 19                  -1  3     27840  ultralytics.nn.modules.conv.Conv             [32, 32, 3, 1]                \n",
      " 20                  -1  1      9280  ultralytics.nn.modules.conv.Conv             [32, 32, 3, 2]                \n",
      " 21            [-1, 15]  1         0  ultralytics.nn.modules.conv.Concat           [1]                           \n",
      " 22                  -1  1     36992  ultralytics.nn.modules.conv.Conv             [64, 64, 3, 1]                \n",
      " 23                  -1  3    110976  ultralytics.nn.modules.conv.Conv             [64, 64, 3, 1]                \n",
      " 24                  -1  1     36992  ultralytics.nn.modules.conv.Conv             [64, 64, 3, 2]                \n",
      " 25            [-1, 10]  1         0  ultralytics.nn.modules.conv.Concat           [1]                           \n",
      " 26                  -1  1    147712  ultralytics.nn.modules.conv.Conv             [128, 128, 3, 1]              \n",
      " 27                  -1  3    443136  ultralytics.nn.modules.conv.Conv             [128, 128, 3, 1]              \n",
      " 28        [19, 23, 27]  1    607360  ultralytics.nn.modules.head.Detect           [80, [32, 64, 128]]           \n",
      "YOLOv6n summary: 195 layers, 4500080 parameters, 4500064 gradients, 13.1 GFLOPs\n",
      "\n",
      "YOLOv6n summary: 195 layers, 4500080 parameters, 4500064 gradients, 13.1 GFLOPs\n"
     ]
    },
    {
     "data": {
      "text/plain": [
       "(195, 4500080, 4500064, 13.1051008)"
      ]
     },
     "execution_count": 11,
     "metadata": {},
     "output_type": "execute_result"
    }
   ],
   "source": [
    "from ultralytics import YOLO\n",
    "\n",
    "# Build a YOLOv6n model from scratch\n",
    "model = YOLO('yolov6n.yaml')\n",
    "\n",
    "# Display model information (optional)\n",
    "model.info()\n",
    "\n",
    "\n",
    "\n",
    "#results = model.train(data='config.yaml', epochs=100, imgsz=640)\n",
    "\n",
    "# Run inference with the YOLOv6n model on the 'bus.jpg' image\n",
    "#results = model('path/to/bus.jpg')"
   ]
  },
  {
   "cell_type": "code",
   "execution_count": 63,
   "id": "ee67d21c",
   "metadata": {},
   "outputs": [],
   "source": [
    "#results = model.train(data='C:/Users/deepa/Downloads/coco.yaml', epochs=100, imgsz=640)\n",
    "#config"
   ]
  },
  {
   "cell_type": "code",
   "execution_count": 12,
   "id": "7b345499",
   "metadata": {},
   "outputs": [
    {
     "data": {
      "text/plain": [
       "False"
      ]
     },
     "execution_count": 12,
     "metadata": {},
     "output_type": "execute_result"
    }
   ],
   "source": [
    "import torch\n",
    "torch.cuda.is_available()"
   ]
  },
  {
   "cell_type": "code",
   "execution_count": 20,
   "id": "245f2044",
   "metadata": {},
   "outputs": [
    {
     "name": "stdout",
     "output_type": "stream",
     "text": [
      "Collecting git+https://github.com/sat28/githubcommit.git"
     ]
    },
    {
     "name": "stderr",
     "output_type": "stream",
     "text": [
      "  ERROR: Error [WinError 2] The system cannot find the file specified while executing command git version\n",
      "ERROR: Cannot find command 'git' - do you have 'git' installed and in your PATH?\n"
     ]
    },
    {
     "name": "stdout",
     "output_type": "stream",
     "text": [
      "\n",
      "  Cloning https://github.com/sat28/githubcommit.git to c:\\users\\deepa\\appdata\\local\\temp\\pip-req-build-c4nb69px\n"
     ]
    }
   ],
   "source": [
    "!pip install git+https://github.com/sat28/githubcommit.git"
   ]
  },
  {
   "cell_type": "code",
   "execution_count": 22,
   "id": "25db4757",
   "metadata": {},
   "outputs": [
    {
     "name": "stderr",
     "output_type": "stream",
     "text": [
      "Traceback (most recent call last):\n",
      "  File \"C:\\Users\\deepa\\anaconda3\\Scripts\\jupyter-serverextension-script.py\", line 10, in <module>\n",
      "    sys.exit(main())\n",
      "             ^^^^^^\n",
      "  File \"C:\\Users\\deepa\\anaconda3\\Lib\\site-packages\\jupyter_core\\application.py\", line 277, in launch_instance\n",
      "    return super().launch_instance(argv=argv, **kwargs)\n",
      "           ^^^^^^^^^^^^^^^^^^^^^^^^^^^^^^^^^^^^^^^^^^^^\n",
      "  File \"C:\\Users\\deepa\\anaconda3\\Lib\\site-packages\\traitlets\\config\\application.py\", line 992, in launch_instance\n",
      "    app.start()\n",
      "  File \"C:\\Users\\deepa\\anaconda3\\Lib\\site-packages\\notebook\\serverextensions.py\", line 289, in start\n",
      "    super().start()\n",
      "  File \"C:\\Users\\deepa\\anaconda3\\Lib\\site-packages\\jupyter_core\\application.py\", line 266, in start\n",
      "    self.subapp.start()\n",
      "  File \"C:\\Users\\deepa\\anaconda3\\Lib\\site-packages\\notebook\\serverextensions.py\", line 208, in start\n",
      "    self.toggle_server_extension_python(arg)\n",
      "  File \"C:\\Users\\deepa\\anaconda3\\Lib\\site-packages\\notebook\\serverextensions.py\", line 197, in toggle_server_extension_python\n",
      "    m, server_exts = _get_server_extension_metadata(package)\n",
      "                     ^^^^^^^^^^^^^^^^^^^^^^^^^^^^^^^^^^^^^^^\n",
      "  File \"C:\\Users\\deepa\\anaconda3\\Lib\\site-packages\\notebook\\serverextensions.py\", line 323, in _get_server_extension_metadata\n",
      "    m = import_item(module)\n",
      "        ^^^^^^^^^^^^^^^^^^^\n",
      "  File \"C:\\Users\\deepa\\anaconda3\\Lib\\site-packages\\traitlets\\utils\\importstring.py\", line 38, in import_item\n",
      "    return __import__(parts[0])\n",
      "           ^^^^^^^^^^^^^^^^^^^^\n",
      "ModuleNotFoundError: No module named 'githubcommit'\n"
     ]
    }
   ],
   "source": [
    "!jupyter serverextension enable --py githubcommit"
   ]
  },
  {
   "cell_type": "code",
   "execution_count": 64,
   "id": "16258681",
   "metadata": {},
   "outputs": [
    {
     "name": "stderr",
     "output_type": "stream",
     "text": [
      "Ultralytics YOLOv8.0.208  Python-3.11.5 torch-2.1.0 CPU (Intel Core(TM) i5-6300U 2.40GHz)\n",
      "Setup complete  (4 CPUs, 7.8 GB RAM, 160.5/237.8 GB disk)\n"
     ]
    }
   ],
   "source": [
    "%pip install ultralytics\n",
    "import ultralytics\n",
    "ultralytics.checks()"
   ]
  },
  {
   "cell_type": "code",
   "execution_count": 1,
   "id": "f5ee78a0",
   "metadata": {},
   "outputs": [
    {
     "data": {
      "text/plain": [
       "False"
      ]
     },
     "execution_count": 1,
     "metadata": {},
     "output_type": "execute_result"
    }
   ],
   "source": [
    "import torch\n",
    "torch.cuda.is_available()"
   ]
  },
  {
   "cell_type": "code",
   "execution_count": 65,
   "id": "acfa8b2d",
   "metadata": {},
   "outputs": [
    {
     "name": "stdout",
     "output_type": "stream",
     "text": [
      "tensor([[0.6259, 0.4886, 0.4846],\n",
      "        [0.0278, 0.5082, 0.1676],\n",
      "        [0.2649, 0.5773, 0.2677],\n",
      "        [0.0324, 0.2014, 0.2682],\n",
      "        [0.0810, 0.5675, 0.0097]])\n"
     ]
    }
   ],
   "source": [
    "import torch\n",
    "x = torch.rand(5, 3)\n",
    "print(x)"
   ]
  },
  {
   "cell_type": "code",
   "execution_count": 1,
   "id": "457c4d59",
   "metadata": {},
   "outputs": [
    {
     "name": "stdout",
     "output_type": "stream",
     "text": [
      "Requirement already satisfied: opencv-python in c:\\users\\deepa\\anaconda3\\lib\\site-packages (4.8.1.78)\n",
      "Requirement already satisfied: numpy>=1.21.2 in c:\\users\\deepa\\anaconda3\\lib\\site-packages (from opencv-python) (1.24.3)\n"
     ]
    }
   ],
   "source": [
    "!pip install opencv-python"
   ]
  },
  {
   "cell_type": "code",
   "execution_count": 1,
   "id": "0fd635bf",
   "metadata": {},
   "outputs": [
    {
     "name": "stdout",
     "output_type": "stream",
     "text": [
      "Collecting opencv-contrib-python\n",
      "  Using cached opencv_contrib_python-4.8.1.78-cp37-abi3-win_amd64.whl.metadata (20 kB)\n",
      "Requirement already satisfied: numpy>=1.21.2 in c:\\users\\deepa\\anaconda3\\lib\\site-packages (from opencv-contrib-python) (1.24.3)\n",
      "Using cached opencv_contrib_python-4.8.1.78-cp37-abi3-win_amd64.whl (44.8 MB)\n",
      "Installing collected packages: opencv-contrib-python\n",
      "Successfully installed opencv-contrib-python-4.8.1.78\n"
     ]
    }
   ],
   "source": [
    "!pip install opencv-contrib-python"
   ]
  },
  {
   "cell_type": "code",
   "execution_count": 66,
   "id": "0aac7e4d",
   "metadata": {},
   "outputs": [],
   "source": [
    "import cv2\n",
    "import numpy as np\n",
    "import time"
   ]
  },
  {
   "cell_type": "code",
   "execution_count": 4,
   "id": "c51222bb",
   "metadata": {},
   "outputs": [
    {
     "name": "stdout",
     "output_type": "stream",
     "text": [
      "Requirement already satisfied: opencv-python==4.8.1.78 in c:\\users\\deepa\\anaconda3\\lib\\site-packages (4.8.1.78)\n",
      "Requirement already satisfied: numpy>=1.21.2 in c:\\users\\deepa\\anaconda3\\lib\\site-packages (from opencv-python==4.8.1.78) (1.24.3)\n"
     ]
    }
   ],
   "source": [
    "!pip install opencv-python==4.8.1.78"
   ]
  },
  {
   "cell_type": "code",
   "execution_count": 11,
   "id": "10f22e89",
   "metadata": {},
   "outputs": [
    {
     "name": "stdout",
     "output_type": "stream",
     "text": [
      "Requirement already satisfied: keras in c:\\users\\deepa\\anaconda3\\lib\\site-packages (2.14.0)\n"
     ]
    }
   ],
   "source": [
    "!pip install keras"
   ]
  },
  {
   "cell_type": "code",
   "execution_count": 67,
   "id": "61028b96",
   "metadata": {},
   "outputs": [],
   "source": [
    "from tensorflow.keras.layers import LeakyReLU"
   ]
  },
  {
   "cell_type": "code",
   "execution_count": 68,
   "id": "12588134",
   "metadata": {},
   "outputs": [],
   "source": [
    "from keras.layers import ELU, PReLU, LeakyReLU"
   ]
  },
  {
   "cell_type": "code",
   "execution_count": 69,
   "id": "eed2e702",
   "metadata": {},
   "outputs": [],
   "source": [
    "from keras.layers import LeakyReLU"
   ]
  },
  {
   "cell_type": "code",
   "execution_count": 70,
   "id": "cfe2e41c",
   "metadata": {},
   "outputs": [
    {
     "name": "stdout",
     "output_type": "stream",
     "text": [
      "Requirement already satisfied: imageai in c:\\users\\deepa\\anaconda3\\lib\\site-packages (3.0.3)\n"
     ]
    },
    {
     "name": "stderr",
     "output_type": "stream",
     "text": [
      "C:\\Users\\deepa\\anaconda3\\Lib\\site-packages\\IPython\\utils\\_process_win32.py:124: ResourceWarning: unclosed file <_io.BufferedWriter name=3>\n",
      "  return process_handler(cmd, _system_body)\n",
      "ResourceWarning: Enable tracemalloc to get the object allocation traceback\n",
      "C:\\Users\\deepa\\anaconda3\\Lib\\site-packages\\IPython\\utils\\_process_win32.py:124: ResourceWarning: unclosed file <_io.BufferedReader name=4>\n",
      "  return process_handler(cmd, _system_body)\n",
      "ResourceWarning: Enable tracemalloc to get the object allocation traceback\n",
      "C:\\Users\\deepa\\anaconda3\\Lib\\site-packages\\IPython\\utils\\_process_win32.py:124: ResourceWarning: unclosed file <_io.BufferedReader name=5>\n",
      "  return process_handler(cmd, _system_body)\n",
      "ResourceWarning: Enable tracemalloc to get the object allocation traceback\n"
     ]
    }
   ],
   "source": [
    "!pip install imageai --upgrade"
   ]
  },
  {
   "cell_type": "code",
   "execution_count": 74,
   "id": "72edbcea",
   "metadata": {},
   "outputs": [],
   "source": [
    "from tensorflow.keras import layers\n",
    "from tensorflow.keras import activations"
   ]
  },
  {
   "cell_type": "code",
   "execution_count": 72,
   "id": "fc2fa1b5",
   "metadata": {},
   "outputs": [],
   "source": [
    "from imageai.Detection import VideoObjectDetection"
   ]
  },
  {
   "cell_type": "code",
   "execution_count": 76,
   "id": "198b4218",
   "metadata": {},
   "outputs": [],
   "source": [
    "#!python convert.py yolov3.cfg yolov3.weights model_data/yolo.h5"
   ]
  },
  {
   "cell_type": "code",
   "execution_count": 77,
   "id": "d7c59cae",
   "metadata": {},
   "outputs": [],
   "source": [
    "net = cv2.dnn.readNet(\"C:/Users/deepa/yolov3.weights\", \"C:/Users/deepa/yolov3.cfg\")"
   ]
  },
  {
   "cell_type": "code",
   "execution_count": 78,
   "id": "0f606718",
   "metadata": {},
   "outputs": [],
   "source": [
    "classes = []"
   ]
  },
  {
   "cell_type": "code",
   "execution_count": 79,
   "id": "beb3528c",
   "metadata": {},
   "outputs": [
    {
     "name": "stdout",
     "output_type": "stream",
     "text": [
      "C:\\Users\\deepa\n"
     ]
    }
   ],
   "source": [
    "import os\n",
    "print(os.getcwd())"
   ]
  },
  {
   "cell_type": "code",
   "execution_count": 80,
   "id": "4356d785",
   "metadata": {},
   "outputs": [],
   "source": [
    "with open(\"C:/Users/deepa/coco.names\", \"r\") as f:\n",
    "    classes = [line.strip() for line in f.readlines()]"
   ]
  },
  {
   "cell_type": "code",
   "execution_count": 81,
   "id": "03c76e18",
   "metadata": {},
   "outputs": [],
   "source": [
    "layer_names = net.getLayerNames()"
   ]
  },
  {
   "cell_type": "code",
   "execution_count": 82,
   "id": "6b68ccfd",
   "metadata": {},
   "outputs": [],
   "source": [
    "unconnected_out_layers = net.getUnconnectedOutLayers()"
   ]
  },
  {
   "cell_type": "code",
   "execution_count": 83,
   "id": "0b3ab44a",
   "metadata": {},
   "outputs": [],
   "source": [
    "layer_names = net.getLayerNames()"
   ]
  },
  {
   "cell_type": "code",
   "execution_count": 84,
   "id": "351eea96",
   "metadata": {},
   "outputs": [],
   "source": [
    "output_layers = [layer_names[i - 1] for i in net.getUnconnectedOutLayers()]"
   ]
  },
  {
   "cell_type": "code",
   "execution_count": 42,
   "id": "f7abeb42",
   "metadata": {},
   "outputs": [],
   "source": [
    "#output_layers = [layer_names[i[0] - 1] for i in unconnected_out_layers if i[0] - 1 < len(layer_names)]"
   ]
  },
  {
   "cell_type": "code",
   "execution_count": 43,
   "id": "65a12087",
   "metadata": {},
   "outputs": [],
   "source": [
    "#output_layers = [layer_names[i[0] - 1] for i in net.getUnconnectedOutLayers()]"
   ]
  },
  {
   "cell_type": "code",
   "execution_count": 85,
   "id": "6b1bb3f5",
   "metadata": {},
   "outputs": [],
   "source": [
    "colors = np.random.uniform(0, 255, size=(len(classes), 3))"
   ]
  },
  {
   "cell_type": "code",
   "execution_count": 86,
   "id": "7cae0c6c",
   "metadata": {},
   "outputs": [],
   "source": [
    "#layer_names = net.getLayerNames()\n",
    "#output_layers = [layer_names[i[0] - 1] for i in net.getUnconnectedOutLayers()]\n",
    "#colors = np.random.uniform(0, 255, size=(len(classes), 3))"
   ]
  },
  {
   "cell_type": "code",
   "execution_count": 87,
   "id": "6f478b9a",
   "metadata": {},
   "outputs": [],
   "source": [
    "#import cv2\n",
    "#import numpy as np\n",
    "#import time\n",
    "\n",
    "# Load Yolo\n",
    "#net = cv2.dnn.readNet(\"yolov3.weights\", \"cfg/yolov3.cfg\")\n",
    "#classes = []\n",
    "#with open(\"coco.names\", \"r\") as f:\n",
    "#    classes = [line.strip() for line in f.readlines()]\n",
    "#layer_names = net.getLayerNames()\n",
    "#output_layers = [layer_names[i[0] - 1] for i in net.getUnconnectedOutLayers()]\n",
    "#colors = np.random.uniform(0, 255, size=(len(classes), 3))"
   ]
  },
  {
   "cell_type": "code",
   "execution_count": 88,
   "id": "ecfb5e24",
   "metadata": {},
   "outputs": [],
   "source": [
    "cap = cv2.VideoCapture(0)"
   ]
  },
  {
   "cell_type": "code",
   "execution_count": 89,
   "id": "c64c4b8a",
   "metadata": {},
   "outputs": [],
   "source": [
    "font = cv2.FONT_HERSHEY_PLAIN"
   ]
  },
  {
   "cell_type": "code",
   "execution_count": 90,
   "id": "1ab911ac",
   "metadata": {},
   "outputs": [],
   "source": [
    "starting_time = time.time()"
   ]
  },
  {
   "cell_type": "code",
   "execution_count": 91,
   "id": "df24a875",
   "metadata": {},
   "outputs": [],
   "source": [
    "frame_id = 0"
   ]
  },
  {
   "cell_type": "code",
   "execution_count": 62,
   "id": "5ac4220a",
   "metadata": {},
   "outputs": [
    {
     "ename": "AttributeError",
     "evalue": "'tuple' object has no attribute 'shape'",
     "output_type": "error",
     "traceback": [
      "\u001b[1;31m---------------------------------------------------------------------------\u001b[0m",
      "\u001b[1;31mAttributeError\u001b[0m                            Traceback (most recent call last)",
      "Cell \u001b[1;32mIn[62], line 4\u001b[0m\n\u001b[0;32m      2\u001b[0m frame \u001b[38;5;241m=\u001b[39m cap\u001b[38;5;241m.\u001b[39mread()\n\u001b[0;32m      3\u001b[0m frame_id \u001b[38;5;241m+\u001b[39m\u001b[38;5;241m=\u001b[39m \u001b[38;5;241m1\u001b[39m\n\u001b[1;32m----> 4\u001b[0m height, width, channels \u001b[38;5;241m=\u001b[39m frame\u001b[38;5;241m.\u001b[39mshape\n",
      "\u001b[1;31mAttributeError\u001b[0m: 'tuple' object has no attribute 'shape'"
     ]
    }
   ],
   "source": [
    "while True:\n",
    "    frame = cap.read()\n",
    "    frame_id += 1\n",
    "    height, width, channels = frame.shape"
   ]
  },
  {
   "cell_type": "code",
   "execution_count": null,
   "id": "ebe9ed12",
   "metadata": {},
   "outputs": [],
   "source": [
    "#font = cv2.FONT_HERSHEY_PLAIN\n",
    "#starting_time = time.time()\n",
    "#frame_id = 0\n",
    "#while True:\n",
    "#    _, frame = cap.read()\n",
    "#    frame_id += 1\n",
    "#\n",
    "#    height, width, channels = frame.shape"
   ]
  },
  {
   "cell_type": "code",
   "execution_count": null,
   "id": "bee90cac",
   "metadata": {},
   "outputs": [],
   "source": [
    "blob = cv2.dnn.blobFromImage(frame, 0.00392, (416, 416), (0, 0, 0), True, crop=False)\n",
    "\n",
    "    net.setInput(blob)\n",
    "    outs = net.forward(output_layers)"
   ]
  },
  {
   "cell_type": "code",
   "execution_count": null,
   "id": "d5725f46",
   "metadata": {},
   "outputs": [],
   "source": [
    "class_ids = []\n",
    "    confidences = []\n",
    "    boxes = []\n",
    "    for out in outs:\n",
    "        for detection in out:\n",
    "            scores = detection[5:]\n",
    "            class_id = np.argmax(scores)\n",
    "            confidence = scores[class_id]\n",
    "            if confidence > 0.2:\n",
    "                # Object detected\n",
    "                center_x = int(detection[0] * width)\n",
    "                center_y = int(detection[1] * height)\n",
    "                w = int(detection[2] * width)\n",
    "                h = int(detection[3] * height)\n",
    "\n",
    "                # Rectangle coordinates\n",
    "                x = int(center_x - w / 2)\n",
    "                y = int(center_y - h / 2)\n",
    "\n",
    "                boxes.append([x, y, w, h])\n",
    "                confidences.append(float(confidence))\n",
    "                class_ids.append(class_id)\n",
    "\n",
    "    indexes = cv2.dnn.NMSBoxes(boxes, confidences, 0.8, 0.3)"
   ]
  },
  {
   "cell_type": "code",
   "execution_count": null,
   "id": "ecb4da15",
   "metadata": {},
   "outputs": [],
   "source": [
    "for i in range(len(boxes)):\n",
    "        if i in indexes:\n",
    "            x, y, w, h = boxes[i]\n",
    "            label = str(classes[class_ids[i]])\n",
    "            confidence = confidences[i]\n",
    "            color = colors[class_ids[i]]\n",
    "            cv2.rectangle(frame, (x, y), (x + w, y + h), color, 2)\n",
    "            cv2.putText(frame, label + \" \" + str(round(confidence, 2)), (x, y + 30), font, 3, color, 3)\n",
    "\n",
    "\n",
    "\n",
    "    elapsed_time = time.time() - starting_time\n",
    "    fps = frame_id / elapsed_time\n",
    "    cv2.putText(frame, \"FPS: \" + str(round(fps, 2)), (10, 50), font, 4, (0, 0, 0), 3)\n",
    "    cv2.imshow(\"Image\", frame)\n",
    "    key = cv2.waitKey(1)\n",
    "    if key == 27:\n",
    "        break\n",
    "\n",
    "cap.release()\n",
    "cv2.destroyAllWindows()"
   ]
  },
  {
   "cell_type": "code",
   "execution_count": null,
   "id": "73702b1d",
   "metadata": {},
   "outputs": [],
   "source": []
  }
 ],
 "metadata": {
  "kernelspec": {
   "display_name": "Python 3 (ipykernel)",
   "language": "python",
   "name": "python3"
  },
  "language_info": {
   "codemirror_mode": {
    "name": "ipython",
    "version": 3
   },
   "file_extension": ".py",
   "mimetype": "text/x-python",
   "name": "python",
   "nbconvert_exporter": "python",
   "pygments_lexer": "ipython3",
   "version": "3.11.5"
  }
 },
 "nbformat": 4,
 "nbformat_minor": 5
}
